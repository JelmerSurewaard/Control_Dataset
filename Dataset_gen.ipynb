{
 "cells": [
  {
   "cell_type": "code",
   "execution_count": 2,
   "metadata": {},
   "outputs": [],
   "source": [
    "import numpy as np\n",
    "import csv"
   ]
  },
  {
   "cell_type": "code",
   "execution_count": 12,
   "metadata": {},
   "outputs": [],
   "source": [
    "N_TRACES   = 100      # rows\n",
    "N_STEPS    = 800      # columns\n",
    "SPIKE_IDXS = np.array([0, 100, 200, 300, 400, 500, 600, 700])\n",
    "JITTER     = 5        # +- timesteps"
   ]
  },
  {
   "cell_type": "code",
   "execution_count": 13,
   "metadata": {},
   "outputs": [],
   "source": [
    "traces = np.zeros((N_TRACES, N_STEPS), dtype=np.uint8)\n",
    "\n",
    "for seed in range(N_TRACES):\n",
    "    rng         = np.random.default_rng(seed)\n",
    "    jitter      = rng.integers(-JITTER, JITTER + 1, size=SPIKE_IDXS.size)\n",
    "    spike_cols  = np.clip(SPIKE_IDXS + jitter, 0, N_STEPS - 1)\n",
    "    traces[seed, spike_cols] = 1"
   ]
  },
  {
   "cell_type": "code",
   "execution_count": 15,
   "metadata": {},
   "outputs": [
    {
     "name": "stdout",
     "output_type": "stream",
     "text": [
      "Saved (100, 800) matrix to input_traces_matrix.csv\n"
     ]
    }
   ],
   "source": [
    "with open(\"input_traces_matrix.csv\", \"w\", newline=\"\") as f:\n",
    "    writer = csv.writer(f)\n",
    "    for row in traces:\n",
    "        writer.writerow(row.tolist())\n",
    "\n",
    "print(\"Saved\", traces.shape, \"matrix to input_traces_matrix.csv\")"
   ]
  },
  {
   "cell_type": "code",
   "execution_count": 17,
   "metadata": {},
   "outputs": [
    {
     "name": "stdout",
     "output_type": "stream",
     "text": [
      "[  5 107 192 293 399 501 605 697]\n"
     ]
    }
   ],
   "source": [
    "import pandas as pd\n",
    "df = pd.read_csv(\"input_traces_matrix.csv\", header=None)\n",
    "trace   = df.iloc[17].values          \n",
    "spike_idxs = np.nonzero(trace)[0]     # positions of the eight spikes\n",
    "\n",
    "print(spike_idxs)"
   ]
  }
 ],
 "metadata": {
  "kernelspec": {
   "display_name": "Python 3",
   "language": "python",
   "name": "python3"
  },
  "language_info": {
   "codemirror_mode": {
    "name": "ipython",
    "version": 3
   },
   "file_extension": ".py",
   "mimetype": "text/x-python",
   "name": "python",
   "nbconvert_exporter": "python",
   "pygments_lexer": "ipython3",
   "version": "3.13.0"
  }
 },
 "nbformat": 4,
 "nbformat_minor": 2
}
